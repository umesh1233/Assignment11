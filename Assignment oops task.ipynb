{
 "cells": [
  {
   "cell_type": "code",
   "execution_count": null,
   "id": "9421db6a-89be-43cd-8c1d-325c49537689",
   "metadata": {},
   "outputs": [],
   "source": [
    "#Q.1\n",
    "The open() function opens a file, and returns it as a file object.\n",
    "Read more about file handling in our chapters about File Handling.\n",
    "Read Only ('r') : Open text file for reading.\n",
    "Write Only ('w') : Open the file for writing. \n",
    "Append Only ('a'): Open the file for writing.\n",
    "In 'r' mode, the file opens in the read mode. \n",
    "In the 'w' mode, the file opens in write mode.\n",
    "In the 'a' mode, the file opens in append mode. "
   ]
  },
  {
   "cell_type": "code",
   "execution_count": null,
   "id": "805fe566-9be1-4084-9535-cead10eb872b",
   "metadata": {},
   "outputs": [],
   "source": [
    "#Q.2\n",
    "The close() method closes an open file.\n",
    "You should always close your files, in some cases, due to buffering, changes made to a file may not show until you close the\n",
    "file."
   ]
  },
  {
   "cell_type": "code",
   "execution_count": 15,
   "id": "ae2ff12b-6655-421f-ae53-ab7a58e080a7",
   "metadata": {},
   "outputs": [],
   "source": [
    "#Q.3\n",
    "f = open(\"test6.txt\" , 'w')"
   ]
  },
  {
   "cell_type": "code",
   "execution_count": 16,
   "id": "31bf5867-13cf-44dc-941d-7d0bba0abead",
   "metadata": {},
   "outputs": [
    {
     "data": {
      "text/plain": [
       "34"
      ]
     },
     "execution_count": 16,
     "metadata": {},
     "output_type": "execute_result"
    }
   ],
   "source": [
    "f.write(\" I want to become a Data Scientist\")"
   ]
  },
  {
   "cell_type": "code",
   "execution_count": 17,
   "id": "3f9a8984-7f58-4320-8469-3d75fbb88ad4",
   "metadata": {},
   "outputs": [],
   "source": [
    "f.close()"
   ]
  },
  {
   "cell_type": "code",
   "execution_count": 18,
   "id": "77815ada-1a2b-4e5c-9bdf-34f9352c1166",
   "metadata": {},
   "outputs": [],
   "source": [
    "f2 = open(\"test6.txt\" ,'r')"
   ]
  },
  {
   "cell_type": "code",
   "execution_count": 19,
   "id": "c1273292-e758-45b0-9265-68dfc91efa67",
   "metadata": {},
   "outputs": [
    {
     "data": {
      "text/plain": [
       "' I want to become a Data Scientist'"
      ]
     },
     "execution_count": 19,
     "metadata": {},
     "output_type": "execute_result"
    }
   ],
   "source": [
    "f2.read()"
   ]
  },
  {
   "cell_type": "code",
   "execution_count": 20,
   "id": "d2b7710d-0f3c-440c-9c1e-ca2875a5d9f7",
   "metadata": {},
   "outputs": [
    {
     "name": "stdout",
     "output_type": "stream",
     "text": [
      " I want to become a Data Scientist\n"
     ]
    }
   ],
   "source": [
    "#Q.4\n",
    "#The read() method returns the specified number of bytes from the file.\n",
    "f = open(\"test6.txt\", \"r\")\n",
    "print(f.read())"
   ]
  },
  {
   "cell_type": "code",
   "execution_count": 21,
   "id": "3518857d-8137-4fb6-a936-338faab8e6a6",
   "metadata": {},
   "outputs": [
    {
     "data": {
      "text/plain": [
       "' I want to become a Data Scientist'"
      ]
     },
     "execution_count": 21,
     "metadata": {},
     "output_type": "execute_result"
    }
   ],
   "source": [
    "#Python readline() method will return a line from the file when called.\n",
    "f = open(\"test6.txt\", \"r\")\n",
    "f.readline()"
   ]
  },
  {
   "cell_type": "code",
   "execution_count": 22,
   "id": "20aeed01-b692-4f1c-8d61-8706044d6b4c",
   "metadata": {},
   "outputs": [
    {
     "data": {
      "text/plain": [
       "[' I want to become a Data Scientist']"
      ]
     },
     "execution_count": 22,
     "metadata": {},
     "output_type": "execute_result"
    }
   ],
   "source": [
    "#readlines() method will return all the lines in a file in the format of a list where each element is a line in the file.\n",
    "f = open(\"test6.txt\",\"r\")\n",
    "f.readlines()"
   ]
  },
  {
   "cell_type": "code",
   "execution_count": null,
   "id": "8afd167a-c506-4bef-ad51-24a5dade3472",
   "metadata": {},
   "outputs": [],
   "source": [
    "#Q.5\n",
    "The with statement works with the open() function to open a file. Unlike open() where you have to close the \n",
    "file with the close() method,the with statement closes the file for you without you telling it to.\n",
    "The advantage of using a with statement is that it is guaranteed to close the file no matter how the nested block exits."
   ]
  },
  {
   "cell_type": "code",
   "execution_count": null,
   "id": "62af7f04-a37a-40f1-bf7d-845de042446c",
   "metadata": {},
   "outputs": [],
   "source": [
    "#Q.6\n",
    "#write() function\n",
    "#The write() function will write the content in the file without adding any extra characters.\n",
    "file = open(\"student.txt\", \"w\")\n",
    "  \n",
    "for i in range(3):\n",
    "    name = input(\"Enter the name of the student: \")\n",
    "    file.write(name)\n",
    "     \n",
    "file.close()\n",
    "  \n",
    "print(\" I want to become a Data Scientist.\")"
   ]
  },
  {
   "cell_type": "code",
   "execution_count": null,
   "id": "a87916d6-2259-41e7-8f1f-1b512b8800af",
   "metadata": {},
   "outputs": [],
   "source": [
    "#writelines() function\n",
    "#This function writes the content of a list to a file.\n",
    "file1 = open(\"student.txt\", \"w\")\n",
    "lst = []\n",
    "for i in range(3):\n",
    "    name = input(\"Enter the name of the student: \")\n",
    "    lst.append(name + '\\n')\n",
    "      \n",
    "file1.writelines(lst)\n",
    "file1.close()\n",
    "print(\" I want to become a Data Scientist\") "
   ]
  }
 ],
 "metadata": {
  "kernelspec": {
   "display_name": "Python 3 (ipykernel)",
   "language": "python",
   "name": "python3"
  },
  "language_info": {
   "codemirror_mode": {
    "name": "ipython",
    "version": 3
   },
   "file_extension": ".py",
   "mimetype": "text/x-python",
   "name": "python",
   "nbconvert_exporter": "python",
   "pygments_lexer": "ipython3",
   "version": "3.10.8"
  }
 },
 "nbformat": 4,
 "nbformat_minor": 5
}
